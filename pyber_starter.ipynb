{
 "cells": [
  {
   "cell_type": "code",
   "execution_count": 4,
   "metadata": {},
   "outputs": [
    {
     "data": {
      "text/html": [
       "<div>\n",
       "<style scoped>\n",
       "    .dataframe tbody tr th:only-of-type {\n",
       "        vertical-align: middle;\n",
       "    }\n",
       "\n",
       "    .dataframe tbody tr th {\n",
       "        vertical-align: top;\n",
       "    }\n",
       "\n",
       "    .dataframe thead th {\n",
       "        text-align: right;\n",
       "    }\n",
       "</style>\n",
       "<table border=\"1\" class=\"dataframe\">\n",
       "  <thead>\n",
       "    <tr style=\"text-align: right;\">\n",
       "      <th></th>\n",
       "      <th>city</th>\n",
       "      <th>date</th>\n",
       "      <th>fare</th>\n",
       "      <th>ride_id</th>\n",
       "      <th>driver_count</th>\n",
       "      <th>type</th>\n",
       "    </tr>\n",
       "  </thead>\n",
       "  <tbody>\n",
       "    <tr>\n",
       "      <th>0</th>\n",
       "      <td>Lake Jonathanshire</td>\n",
       "      <td>1/14/2018 10:14</td>\n",
       "      <td>13.83</td>\n",
       "      <td>5.739410e+12</td>\n",
       "      <td>5</td>\n",
       "      <td>Urban</td>\n",
       "    </tr>\n",
       "    <tr>\n",
       "      <th>1</th>\n",
       "      <td>Lake Jonathanshire</td>\n",
       "      <td>4/7/2018 20:51</td>\n",
       "      <td>31.25</td>\n",
       "      <td>4.441250e+12</td>\n",
       "      <td>5</td>\n",
       "      <td>Urban</td>\n",
       "    </tr>\n",
       "    <tr>\n",
       "      <th>2</th>\n",
       "      <td>Lake Jonathanshire</td>\n",
       "      <td>3/9/2018 23:45</td>\n",
       "      <td>19.89</td>\n",
       "      <td>2.389500e+12</td>\n",
       "      <td>5</td>\n",
       "      <td>Urban</td>\n",
       "    </tr>\n",
       "    <tr>\n",
       "      <th>3</th>\n",
       "      <td>Lake Jonathanshire</td>\n",
       "      <td>4/7/2018 18:09</td>\n",
       "      <td>24.28</td>\n",
       "      <td>7.796810e+12</td>\n",
       "      <td>5</td>\n",
       "      <td>Urban</td>\n",
       "    </tr>\n",
       "    <tr>\n",
       "      <th>4</th>\n",
       "      <td>Lake Jonathanshire</td>\n",
       "      <td>1/2/2018 14:14</td>\n",
       "      <td>13.89</td>\n",
       "      <td>4.242550e+11</td>\n",
       "      <td>5</td>\n",
       "      <td>Urban</td>\n",
       "    </tr>\n",
       "  </tbody>\n",
       "</table>\n",
       "</div>"
      ],
      "text/plain": [
       "                 city             date   fare       ride_id  driver_count  \\\n",
       "0  Lake Jonathanshire  1/14/2018 10:14  13.83  5.739410e+12             5   \n",
       "1  Lake Jonathanshire   4/7/2018 20:51  31.25  4.441250e+12             5   \n",
       "2  Lake Jonathanshire   3/9/2018 23:45  19.89  2.389500e+12             5   \n",
       "3  Lake Jonathanshire   4/7/2018 18:09  24.28  7.796810e+12             5   \n",
       "4  Lake Jonathanshire   1/2/2018 14:14  13.89  4.242550e+11             5   \n",
       "\n",
       "    type  \n",
       "0  Urban  \n",
       "1  Urban  \n",
       "2  Urban  \n",
       "3  Urban  \n",
       "4  Urban  "
      ]
     },
     "execution_count": 4,
     "metadata": {},
     "output_type": "execute_result"
    }
   ],
   "source": [
    "%matplotlib inline\n",
    "# Dependencies and Setup\n",
    "import matplotlib.pyplot as plt\n",
    "import pandas as pd\n",
    "import numpy as np\n",
    "\n",
    "# File to Load (Remember to change these)\n",
    "city_data = \"data/city_data.csv\"\n",
    "ride_data = \"data/ride_data.csv\"\n",
    "\n",
    "# Read the City and Ride Data\n",
    "\n",
    "city_data = \"city_data.csv\"\n",
    "ride_data = \"ride_data.csv\"\n",
    "\n",
    "ride_data_df = pd.read_csv(ride_data)\n",
    "city_data_df = pd.read_csv(city_data)\n",
    "\n",
    "# Combine the data into a single dataset\n",
    "\n",
    "combined_ridecity_data_df = ride_data_df.merge(city_data_df, on =\"city\")\n",
    "\n",
    "\n",
    "# Display the data table for preview\n",
    "combined_ridecity_data_df.head()"
   ]
  },
  {
   "cell_type": "markdown",
   "metadata": {},
   "source": [
    "## Bubble Plot of Ride Sharing Data"
   ]
  },
  {
   "cell_type": "code",
   "execution_count": null,
   "metadata": {
    "scrolled": true
   },
   "outputs": [],
   "source": []
  },
  {
   "cell_type": "code",
   "execution_count": 11,
   "metadata": {},
   "outputs": [
    {
     "ename": "IndexError",
     "evalue": "invalid index to scalar variable.",
     "output_type": "error",
     "traceback": [
      "\u001b[1;31m---------------------------------------------------------------------------\u001b[0m",
      "\u001b[1;31mIndexError\u001b[0m                                Traceback (most recent call last)",
      "\u001b[1;32m<ipython-input-11-89738dfdc5c1>\u001b[0m in \u001b[0;36m<module>\u001b[1;34m()\u001b[0m\n\u001b[0;32m      4\u001b[0m                                                                       \u001b[1;31m#\"Rural_x\":\"Rural\"})\u001b[0m\u001b[1;33m\u001b[0m\u001b[1;33m\u001b[0m\u001b[0m\n\u001b[0;32m      5\u001b[0m \u001b[1;33m\u001b[0m\u001b[0m\n\u001b[1;32m----> 6\u001b[1;33m \u001b[0murban_cities\u001b[0m \u001b[1;33m=\u001b[0m \u001b[0mcombined_ridecity_data_df\u001b[0m\u001b[1;33m[\u001b[0m\u001b[0mcombined_ridecity_data_df\u001b[0m\u001b[1;33m[\u001b[0m\u001b[1;34m\"type\"\u001b[0m\u001b[1;33m]\u001b[0m\u001b[1;33m==\u001b[0m \u001b[1;34m\"Urban\"\u001b[0m\u001b[1;33m]\u001b[0m\u001b[1;33m\u001b[0m\u001b[0m\n\u001b[0m\u001b[0;32m      7\u001b[0m \u001b[0msuburban_cities\u001b[0m \u001b[1;33m=\u001b[0m \u001b[0mcombined_ridecity_data_df\u001b[0m\u001b[1;33m[\u001b[0m\u001b[0mcombined_ridecity_data_df\u001b[0m\u001b[1;33m[\u001b[0m\u001b[1;34m\"type\"\u001b[0m\u001b[1;33m]\u001b[0m\u001b[1;33m==\u001b[0m \u001b[1;34m\"Suburban\"\u001b[0m\u001b[1;33m]\u001b[0m\u001b[1;33m\u001b[0m\u001b[0m\n\u001b[0;32m      8\u001b[0m \u001b[0mrural_cities\u001b[0m \u001b[1;33m=\u001b[0m \u001b[0mcombined_ridecity_data_df\u001b[0m\u001b[1;33m[\u001b[0m\u001b[0mcombined_ridecity_data_df\u001b[0m\u001b[1;33m[\u001b[0m\u001b[1;34m\"type\"\u001b[0m\u001b[1;33m]\u001b[0m\u001b[1;33m==\u001b[0m \u001b[1;34m\"Rural\"\u001b[0m\u001b[1;33m]\u001b[0m\u001b[1;33m\u001b[0m\u001b[0m\n",
      "\u001b[1;31mIndexError\u001b[0m: invalid index to scalar variable."
     ]
    }
   ],
   "source": [
    "# Obtain the x and y coordinates for each of the three city types\n",
    "#combined_ridecity_data_df = combined_ridecity_data_df.rename(columns={\"Urban_x\":\"Urban\",\n",
    "                                                            #\"Suburban_x\":\"Suburban\",\n",
    "                                                                      #\"Rural_x\":\"Rural\"})\n",
    "\n",
    "urban_cities = combined_ridecity_data_df[combined_ridecity_data_df[\"type\"]== \"Urban\"]\n",
    "suburban_cities = combined_ridecity_data_df[combined_ridecity_data_df[\"type\"]== \"Suburban\"]\n",
    "rural_cities = combined_ridecity_data_df[combined_ridecity_data_df[\"type\"]== \"Rural\"]\n",
    "\n",
    "combined_ridecity_data_df = combined_ridecity_data_df['driver_count'].max()\n",
    "\n",
    "\n",
    "urban_ride_count = urban_cities.groupby(\"city\").count()[\"ride_id\"]\n",
    "urban_ride_count \n",
    "\n",
    "urban_ride_count = urban_cities.groupby(\"city\").count()[\"fare\"]\n",
    "urban_ride_count \n",
    "\n",
    "urban_ride_count = urban_cities.groupby(\"city\").count()[\"driver_count\"]\n",
    "urban_ride_count \n",
    "\n",
    "suburban_ride_count = suburban_cities.groupby(\"city\").count()[\"ride_id\"]\n",
    "suburban_ride_count \n",
    "\n",
    "suburban_ride_count = suburban_cities.groupby(\"city\").count()[\"driver_count\"]\n",
    "suburban_ride_count \n",
    "\n",
    "suburban_ride_count = urban_cities.groupby(\"city\").count()[\"fare\"]\n",
    "suburban_ride_count \n",
    "\n",
    "rural_ride_count = rural_cities.groupby(\"city\").count()[\"ride_id\"]\n",
    "rural_ride_count \n",
    "\n",
    "rural_ride_count = rural_cities.groupby(\"city\").count()[\"driver_count\"]\n",
    "rural_ride_count \n",
    "\n",
    "rural_ride_count = rural_cities.groupby(\"city\").count()[\"fare\"]\n",
    "rural_ride_count\n",
    "\n",
    "#x_axis = combined_ridecity_data_df[\"ride_id\"].nunique()\n",
    "#print(x_axis)\n",
    "\n",
    "#y_axis = combined_ridecity_data_df[\"fare\"].unique()\n",
    "\n",
    "\n",
    "# Build the scatter plots for each city types\n",
    "\n",
    "urban_plot = plt.scatter(urban_ride_count, fare, driver_count, \n",
    "                         color='red', alpha=0.5, edgecolor='black', linewidths=1.5, \n",
    "                         label='Urban')\n",
    "suburban_plot = plt.scatter(suburban_ride_count, avg_fare_suburban, s=total_drivers_suburban*10, \n",
    "                            color='blue', alpha=0.5, edgecolor='black',linewidths=1.5, \n",
    "                            label='Suburban')\n",
    "rural_plot = plt.scatter(rural_ride_count, avg_fare_rural, s=total_drivers_rural*10, \n",
    "                         color='green', alpha=0.5, edgecolor='black',linewidths=1.5, \n",
    "                         label='Rural')\n",
    "\n",
    "\n",
    "# Incorporate the other graph properties\n",
    "\n",
    "# Create a legend\n",
    "plt.title('Pyber Ride Sharing Data (2016)')\n",
    "plt.xlabel('Total Number of Rides (Per City)')\n",
    "plt.ylabel('Average Fare ($)')\n",
    "\n",
    "\n",
    "\n",
    "# Incorporate a text label regarding circle size\n",
    "lgnd = plt.legend(handles=[urban_plot,suburban_plot,rural_plot], loc ='best',title = 'city types')\n",
    "lgnd.legendHandles[0]._sizes = [30]\n",
    "lgnd.legendHandles[1]._sizes = [30]\n",
    "lgnd.legendHandles[2]._sizes = [30]\n",
    "\n",
    "# Save Figure\n"
   ]
  },
  {
   "cell_type": "code",
   "execution_count": null,
   "metadata": {},
   "outputs": [],
   "source": [
    "# Show plot\n",
    "plt.show()"
   ]
  },
  {
   "cell_type": "markdown",
   "metadata": {},
   "source": [
    "## Total Fares by City Type"
   ]
  },
  {
   "cell_type": "code",
   "execution_count": 3,
   "metadata": {},
   "outputs": [
    {
     "ename": "NameError",
     "evalue": "name 'df_ridecity_data' is not defined",
     "output_type": "error",
     "traceback": [
      "\u001b[1;31m---------------------------------------------------------------------------\u001b[0m",
      "\u001b[1;31mNameError\u001b[0m                                 Traceback (most recent call last)",
      "\u001b[1;32m<ipython-input-3-fc0da20553e0>\u001b[0m in \u001b[0;36m<module>\u001b[1;34m()\u001b[0m\n\u001b[0;32m      1\u001b[0m \u001b[1;31m# Calculate Type Percents\u001b[0m\u001b[1;33m\u001b[0m\u001b[1;33m\u001b[0m\u001b[0m\n\u001b[1;32m----> 2\u001b[1;33m \u001b[0mgroup_type\u001b[0m \u001b[1;33m=\u001b[0m \u001b[0mdf_ridecity_data\u001b[0m\u001b[1;33m.\u001b[0m\u001b[0mgroupby\u001b[0m\u001b[1;33m(\u001b[0m\u001b[1;33m[\u001b[0m\u001b[1;34m'type'\u001b[0m\u001b[1;33m]\u001b[0m\u001b[1;33m)\u001b[0m\u001b[1;33m\u001b[0m\u001b[0m\n\u001b[0m\u001b[0;32m      3\u001b[0m \u001b[1;33m\u001b[0m\u001b[0m\n\u001b[0;32m      4\u001b[0m \u001b[1;31m# Calculate total fare per city type\u001b[0m\u001b[1;33m\u001b[0m\u001b[1;33m\u001b[0m\u001b[0m\n\u001b[0;32m      5\u001b[0m \u001b[0mtotal_fare_all\u001b[0m \u001b[1;33m=\u001b[0m \u001b[0mgroup_type\u001b[0m\u001b[1;33m[\u001b[0m\u001b[1;34m'fare'\u001b[0m\u001b[1;33m]\u001b[0m\u001b[1;33m.\u001b[0m\u001b[0msum\u001b[0m\u001b[1;33m(\u001b[0m\u001b[1;33m)\u001b[0m\u001b[1;33m\u001b[0m\u001b[0m\n",
      "\u001b[1;31mNameError\u001b[0m: name 'df_ridecity_data' is not defined"
     ]
    }
   ],
   "source": [
    "# Calculate Type Percents\n",
    "group_type = df_ridecity_data.groupby(['type'])\n",
    "\n",
    "# Calculate total fare per city type\n",
    "total_fare_all = group_type['fare'].sum()\n",
    "total_fare_df = pd.DataFrame({'Total Fare Per Type': total_fare_all})\n",
    "\n",
    "# Calculate percent of each city type\n",
    "percent_f_per_type = total_fare_df['Total Fare Per Type'] / total_fare_df['Total Fare Per Type'].sum() * 100 \n",
    "percentages_fare_df = pd.DataFrame({'Percentage': percent_f_per_type})\n",
    "\n",
    "# Summarize\n",
    "percent_fare_type = pd.merge(total_fare_df, percentages_fare_df, right_index=True, left_index=True)\n",
    "\n",
    "percent_f_rural = percent_fare_type.iloc[0][1]\n",
    "percent_f_suburban = percent_fare_type.iloc[1][1]\n",
    "percent_f_urban = percent_fare_type.iloc[2][1]\n",
    "\n",
    "# User bar chart\n",
    "fexplode = [0.1, 0.1, 0]\n",
    "flabels = ['Rural', 'Suburban', 'Urban']\n",
    "percents_fare = [percent_f_rural, percent_f_suburban, percent_f_urban]\n",
    "fcolors = ['gold', 'lightskyblue', 'lightcoral']\n",
    "\n",
    "plt.pie(percents_fare, labels=flabels, colors=fcolors, explode=fexplode, \n",
    "        autopct=\"{0:1.1f}%\".format, shadow=True, startangle=140)\n",
    "plt.title('% of Total Fares by City Type')\n",
    "plt.axis(\"equal\")\n",
    "\n",
    "plt.show()\n",
    "# Build Pie Chart\n",
    "\n",
    "# Save Figure\n"
   ]
  },
  {
   "cell_type": "code",
   "execution_count": 4,
   "metadata": {},
   "outputs": [
    {
     "data": {
      "image/png": "[encoded data removed]",
      "text/plain": [
       "<Figure size 432x288 with 1 Axes>"
      ]
     },
     "metadata": {},
     "output_type": "display_data"
    }
   ],
   "source": [
    "# Show Figure\n",
    "plt.show()"
   ]
  },
  {
   "cell_type": "markdown",
   "metadata": {},
   "source": [
    "## Total Rides by City Type"
   ]
  },
  {
   "cell_type": "code",
   "execution_count": 5,
   "metadata": {},
   "outputs": [
    {
     "ename": "NameError",
     "evalue": "name 'group_type' is not defined",
     "output_type": "error",
     "traceback": [
      "\u001b[1;31m---------------------------------------------------------------------------\u001b[0m",
      "\u001b[1;31mNameError\u001b[0m                                 Traceback (most recent call last)",
      "\u001b[1;32m<ipython-input-5-5104f72b4774>\u001b[0m in \u001b[0;36m<module>\u001b[1;34m()\u001b[0m\n\u001b[0;32m      1\u001b[0m \u001b[1;31m# Calculate Ride Percents\u001b[0m\u001b[1;33m\u001b[0m\u001b[1;33m\u001b[0m\u001b[0m\n\u001b[1;32m----> 2\u001b[1;33m \u001b[0mtotal_rides_all\u001b[0m \u001b[1;33m=\u001b[0m \u001b[0mgroup_type\u001b[0m\u001b[1;33m[\u001b[0m\u001b[1;34m'ride_id'\u001b[0m\u001b[1;33m]\u001b[0m\u001b[1;33m.\u001b[0m\u001b[0mnunique\u001b[0m\u001b[1;33m(\u001b[0m\u001b[1;33m)\u001b[0m\u001b[1;33m\u001b[0m\u001b[0m\n\u001b[0m\u001b[0;32m      3\u001b[0m \u001b[0mtotal_rides_df\u001b[0m \u001b[1;33m=\u001b[0m \u001b[0mpd\u001b[0m\u001b[1;33m.\u001b[0m\u001b[0mDataFrame\u001b[0m\u001b[1;33m(\u001b[0m\u001b[1;33m{\u001b[0m\u001b[1;34m'Total Rides Per Type'\u001b[0m\u001b[1;33m:\u001b[0m \u001b[0mtotal_rides_all\u001b[0m\u001b[1;33m}\u001b[0m\u001b[1;33m)\u001b[0m\u001b[1;33m\u001b[0m\u001b[0m\n\u001b[0;32m      4\u001b[0m \u001b[1;33m\u001b[0m\u001b[0m\n\u001b[0;32m      5\u001b[0m \u001b[1;31m# Calculate percent of each city type\u001b[0m\u001b[1;33m\u001b[0m\u001b[1;33m\u001b[0m\u001b[0m\n",
      "\u001b[1;31mNameError\u001b[0m: name 'group_type' is not defined"
     ]
    }
   ],
   "source": [
    "# Calculate Ride Percents\n",
    "total_rides_all = group_type['ride_id'].nunique()\n",
    "total_rides_df = pd.DataFrame({'Total Rides Per Type': total_rides_all})\n",
    "\n",
    "# Calculate percent of each city type\n",
    "percent_r_per_type = total_rides_df['Total Rides Per Type'] / total_rides_df['Total Rides Per Type'].sum() * 100 \n",
    "percentages_rides_df = pd.DataFrame({'Percentage': percent_r_per_type})\n",
    "\n",
    "# Summarize\n",
    "percent_rides_type = pd.merge(total_rides_df, percentages_rides_df, right_index=True, left_index=True)\n",
    "\n",
    "percent_r_rural = percent_rides_type.iloc[0][1]\n",
    "percent_r_suburban = percent_rides_type.iloc[1][1]\n",
    "percent_r_urban = percent_rides_type.iloc[2][1]\n",
    "\n",
    "# User bar chart\n",
    "rexplode = [0.1, 0.1, 0]\n",
    "rlabels = ['Rural', 'Suburban', 'Urban']\n",
    "percents_rides = [percent_r_rural, percent_r_suburban, percent_r_urban]\n",
    "rcolors = ['gold', 'lightskyblue', 'lightcoral']\n",
    "\n",
    "plt.pie(percents_rides, labels=rlabels, colors=rcolors, explode=rexplode, \n",
    "        autopct=\"{0:1.1f}%\".format, shadow=True, startangle=140)\n",
    "plt.title('% of Total Rides by City Type')\n",
    "plt.axis(\"equal\")\n",
    "\n",
    "# Build Pie Chart\n",
    "\n",
    "# Save Figure\n"
   ]
  },
  {
   "cell_type": "code",
   "execution_count": 5,
   "metadata": {},
   "outputs": [
    {
     "data": {
      "image/png": "[encoded data removed]",
      "text/plain": [
       "<Figure size 432x288 with 1 Axes>"
      ]
     },
     "metadata": {},
     "output_type": "display_data"
    }
   ],
   "source": [
    "# Show Figure\n",
    "plt.show()"
   ]
  },
  {
   "cell_type": "markdown",
   "metadata": {},
   "source": [
    "## Total Drivers by City Type"
   ]
  },
  {
   "cell_type": "code",
   "execution_count": 8,
   "metadata": {},
   "outputs": [
    {
     "ename": "NameError",
     "evalue": "name 'ridecity_data' is not defined",
     "output_type": "error",
     "traceback": [
      "\u001b[1;31m---------------------------------------------------------------------------\u001b[0m",
      "\u001b[1;31mNameError\u001b[0m                                 Traceback (most recent call last)",
      "\u001b[1;32m<ipython-input-8-305cb03b5037>\u001b[0m in \u001b[0;36m<module>\u001b[1;34m()\u001b[0m\n\u001b[0;32m      1\u001b[0m \u001b[1;31m# Calculate Driver Percents\u001b[0m\u001b[1;33m\u001b[0m\u001b[1;33m\u001b[0m\u001b[0m\n\u001b[1;32m----> 2\u001b[1;33m \u001b[0murban_d\u001b[0m \u001b[1;33m=\u001b[0m \u001b[0mridecity_data\u001b[0m\u001b[1;33m.\u001b[0m\u001b[0mloc\u001b[0m\u001b[1;33m[\u001b[0m\u001b[0mridecity_data\u001b[0m\u001b[1;33m[\u001b[0m\u001b[1;34m'City Type'\u001b[0m\u001b[1;33m]\u001b[0m\u001b[1;33m==\u001b[0m\u001b[1;34m'Urban'\u001b[0m\u001b[1;33m]\u001b[0m\u001b[1;33m\u001b[0m\u001b[0m\n\u001b[0m\u001b[0;32m      3\u001b[0m \u001b[0mtotal_urban_d\u001b[0m \u001b[1;33m=\u001b[0m \u001b[0murban_d\u001b[0m\u001b[1;33m[\u001b[0m\u001b[1;34m'Total Number of Drivers'\u001b[0m\u001b[1;33m]\u001b[0m\u001b[1;33m.\u001b[0m\u001b[0msum\u001b[0m\u001b[1;33m(\u001b[0m\u001b[1;33m)\u001b[0m\u001b[1;33m\u001b[0m\u001b[0m\n\u001b[0;32m      4\u001b[0m \u001b[1;33m\u001b[0m\u001b[0m\n\u001b[0;32m      5\u001b[0m \u001b[0msuburban_d\u001b[0m \u001b[1;33m=\u001b[0m \u001b[0mridecity_data\u001b[0m\u001b[1;33m.\u001b[0m\u001b[0mloc\u001b[0m\u001b[1;33m[\u001b[0m\u001b[0mridecity_data\u001b[0m\u001b[1;33m[\u001b[0m\u001b[1;34m'City Type'\u001b[0m\u001b[1;33m]\u001b[0m\u001b[1;33m==\u001b[0m\u001b[1;34m'Suburban'\u001b[0m\u001b[1;33m]\u001b[0m\u001b[1;33m\u001b[0m\u001b[0m\n",
      "\u001b[1;31mNameError\u001b[0m: name 'ridecity_data' is not defined"
     ]
    }
   ],
   "source": [
    "# Calculate Driver Percents\n",
    "urban_d = ridecity_data.loc[ridecity_data['City Type']=='Urban']\n",
    "total_urban_d = urban_d['Total Number of Drivers'].sum()\n",
    "\n",
    "suburban_d = ridecity_data.loc[ridecity_data['City Type']=='Suburban']\n",
    "total_suburban_d = suburban_d['Total Number of Drivers'].sum()\n",
    "\n",
    "rural_d = ridecity_data.loc[ridecity_data['City Type']=='Rural']\n",
    "total_rural_d = rural_d['Total Number of Drivers'].sum()\n",
    "\n",
    "total_drivers_all = ridecity_data['Total Number of Drivers'].sum()\n",
    "\n",
    "# Calculate percent of each city type\n",
    "percent_urban_d = total_urban_d / total_drivers_all * 100\n",
    "percent_suburban_d = total_suburban_d / total_drivers_all * 100\n",
    "percent_rural_d = total_rural_d / total_drivers_all * 100\n",
    "\n",
    "# User bar chart\n",
    "dexplode = [0.1, 0.1, 0]\n",
    "dlabels = ['Rural', 'Suburban', 'Urban']\n",
    "percents_drivers = [percent_rural_d, percent_suburban_d, percent_urban_d]\n",
    "dcolors = ['gold', 'lightskyblue', 'lightcoral']\n",
    "\n",
    "plt.pie(percents_drivers, labels=dlabels, colors=dcolors, explode=dexplode, \n",
    "        autopct=\"{0:1.1f}%\".format, shadow=True, startangle=140)\n",
    "plt.title('% of Total Drivers by City Type')\n",
    "plt.axis(\"equal\")\n",
    "\n",
    "plt.show()\n",
    "# Build Pie Charts\n",
    "\n",
    "# Save Figure\n"
   ]
  },
  {
   "cell_type": "code",
   "execution_count": 7,
   "metadata": {
    "scrolled": true
   },
   "outputs": [],
   "source": [
    "# Show Figure\n",
    "plt.show()"
   ]
  },
  {
   "cell_type": "code",
   "execution_count": null,
   "metadata": {},
   "outputs": [],
   "source": []
  }
 ],
 "metadata": {
  "anaconda-cloud": {},
  "kernelspec": {
   "display_name": "Python [conda env:Anaconda3]",
   "language": "python",
   "name": "conda-env-Anaconda3-py"
  },
  "language_info": {
   "codemirror_mode": {
    "name": "ipython",
    "version": 3
   },
   "file_extension": ".py",
   "mimetype": "text/x-python",
   "name": "python",
   "nbconvert_exporter": "python",
   "pygments_lexer": "ipython3",
   "version": "3.6.5"
  }
 },
 "nbformat": 4,
 "nbformat_minor": 2
}
